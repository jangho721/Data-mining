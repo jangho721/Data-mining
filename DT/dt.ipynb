{
 "cells": [
  {
   "cell_type": "code",
   "execution_count": null,
   "metadata": {},
   "outputs": [],
   "source": [
    "# Receive program argument values\n",
    "import sys\n",
    "\n",
    "dt_train_txt = sys.argv[1]\n",
    "dt_test_txt = sys.argv[2]\n",
    "dt_result_txt = sys.argv[3]"
   ]
  },
  {
   "cell_type": "code",
   "execution_count": null,
   "metadata": {},
   "outputs": [],
   "source": [
    "import pandas as pd\n",
    "data = pd.read_csv(dt_train_txt, sep = \"\\t\", engine='python', encoding = \"cp949\")\n",
    "data_test = pd.read_csv(dt_test_txt, sep = \"\\t\", engine='python', encoding = \"cp949\")"
   ]
  },
  {
   "cell_type": "code",
   "execution_count": null,
   "metadata": {},
   "outputs": [],
   "source": [
    "from Decision_Tree import Gain_dt\n",
    "from Decision_Tree import result_gain\n",
    "from Decision_Tree import Gini_dt\n",
    "from Decision_Tree import result_gini\n",
    "\n",
    "if dt_train_txt == 'dt_train.txt':\n",
    "    temp = Gain_dt\n",
    "    tree = temp.DT_train(data)\n",
    "    result_gain.save(tree, data, data_test)\n",
    "else:\n",
    "    temp = Gini_dt\n",
    "    tree = temp.DT_train(data)\n",
    "    result_gini.save(tree, data, data_test)"
   ]
  }
 ],
 "metadata": {
  "kernelspec": {
   "display_name": "Python 3",
   "language": "python",
   "name": "python3"
  },
  "language_info": {
   "codemirror_mode": {
    "name": "ipython",
    "version": 3
   },
   "file_extension": ".py",
   "mimetype": "text/x-python",
   "name": "python",
   "nbconvert_exporter": "python",
   "pygments_lexer": "ipython3",
   "version": "3.8.3"
  }
 },
 "nbformat": 4,
 "nbformat_minor": 4
}
