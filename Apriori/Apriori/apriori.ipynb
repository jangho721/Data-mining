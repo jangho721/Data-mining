{
 "cells": [
  {
   "cell_type": "code",
   "execution_count": null,
   "metadata": {},
   "outputs": [],
   "source": [
    "# Receive program argument values\n",
    "import sys\n",
    "\n",
    "minimum_sup = int(sys.argv[1])\n",
    "input_txt = sys.argv[2]\n",
    "output_txt = sys.argv[3]"
   ]
  },
  {
   "cell_type": "code",
   "execution_count": null,
   "metadata": {
    "scrolled": true
   },
   "outputs": [],
   "source": [
    "# 파일 불러오기\n",
    "# 전처리\n",
    "f = open(input_txt, 'r')\n",
    "line = f.readlines()\n",
    "\n",
    "List = []\n",
    "for i in range(len(line)):\n",
    "    line[i] = line[i].replace('\\n','')\n",
    "    line[i]= line[i].split('\\t')\n",
    "    List.append(set(list(map(int, line[i]))))"
   ]
  },
  {
   "cell_type": "code",
   "execution_count": null,
   "metadata": {},
   "outputs": [],
   "source": [
    "# import the class and function\n",
    "from Partition_Algorithm import PAlgorithm\n",
    "\n",
    "a = PAlgorithm(minimum_sup)\n",
    "b = a.Partition_Database(List, 5)\n",
    "c = a.Scan_one(b)\n",
    "d = a.Consolidate(c)\n",
    "e = a.Scan_two(d, List)\n",
    "f = a.Association_rule(e)\n",
    "g = a.Cal_sup_conf(f, List)\n",
    "a.Make_output(g,output_txt)"
   ]
  }
 ],
 "metadata": {
  "kernelspec": {
   "display_name": "Python 3",
   "language": "python",
   "name": "python3"
  },
  "language_info": {
   "codemirror_mode": {
    "name": "ipython",
    "version": 3
   },
   "file_extension": ".py",
   "mimetype": "text/x-python",
   "name": "python",
   "nbconvert_exporter": "python",
   "pygments_lexer": "ipython3",
   "version": "3.8.3"
  }
 },
 "nbformat": 4,
 "nbformat_minor": 4
}
