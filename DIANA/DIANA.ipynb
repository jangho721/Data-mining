{
 "cells": [
  {
   "cell_type": "code",
   "execution_count": null,
   "metadata": {},
   "outputs": [],
   "source": [
    "# coordinate = [list(map(float,line[i].replace('\\t',\" \").split()[1:])) for i in range(len(line))]"
   ]
  },
  {
   "cell_type": "code",
   "execution_count": null,
   "metadata": {},
   "outputs": [],
   "source": [
    "import time"
   ]
  },
  {
   "cell_type": "code",
   "execution_count": null,
   "metadata": {},
   "outputs": [],
   "source": [
    "# 시각화\n",
    "# import matplotlib.pyplot as plt\n",
    "\n",
    "# scatter = np.array(coordinate)\n",
    "# x = scatter[:,0]\n",
    "# y = scatter[:,1]\n",
    "\n",
    "# plt.figure(figsize=(15, 10))\n",
    "# plt.scatter(x,y,s = 7)\n",
    "# plt.show"
   ]
  },
  {
   "cell_type": "code",
   "execution_count": null,
   "metadata": {},
   "outputs": [],
   "source": [
    "def distance(i,j):\n",
    "    dist = (((i - j)**2).sum(axis = 1))**(1/2)\n",
    "\n",
    "    return dist"
   ]
  },
  {
   "cell_type": "code",
   "execution_count": null,
   "metadata": {},
   "outputs": [],
   "source": [
    "def dist_matrix(coordinate):\n",
    "    L = []\n",
    "    size = len(coordinate)\n",
    "\n",
    "    for i in range(size):\n",
    "        L.append(distance(coordinate[:,[1,2]],coordinate[i,[1,2]]))\n",
    "        \n",
    "    matrix = np.array(L)\n",
    "\n",
    "    return matrix"
   ]
  },
  {
   "cell_type": "code",
   "execution_count": null,
   "metadata": {},
   "outputs": [],
   "source": [
    "# mat = dist_matrix(coordinate_np)"
   ]
  },
  {
   "cell_type": "code",
   "execution_count": null,
   "metadata": {},
   "outputs": [],
   "source": [
    "def avg(mat):\n",
    "    temp = mat.sum(axis = 0)/(len(mat)-1)\n",
    "    \n",
    "    return temp"
   ]
  },
  {
   "cell_type": "code",
   "execution_count": null,
   "metadata": {},
   "outputs": [],
   "source": [
    "# ave = avg(mat)\n",
    "# init_obj_idx = np.argmax(ave)\n",
    "# init_point = coordinate_np[init_obj_idx, :]"
   ]
  },
  {
   "cell_type": "code",
   "execution_count": null,
   "metadata": {},
   "outputs": [],
   "source": [
    "def dist_ij(i, j_group, coordinate):\n",
    "    j_group = coordinate[:,[1,2]][j_group,:]\n",
    "#     j_group = np.delete(coordinate[:,[1,2]], j_group_other, axis=0) # axis = 0 행 / axis = 1 열\n",
    "    temp = distance(j_group, coordinate[i,[1,2]])\n",
    "    avg_dij = temp.sum()/len(j_group)\n",
    "    \n",
    "    return avg_dij"
   ]
  },
  {
   "cell_type": "code",
   "execution_count": null,
   "metadata": {},
   "outputs": [],
   "source": [
    "def dist_is(i, s_group, coordinate):\n",
    "    splinter_group = coordinate[:,[1,2]][s_group,:]\n",
    "#     splinter_group = np.delete(coordinate[:,[1,2]], j_idx, axis=0)\n",
    "    temp = distance(splinter_group, coordinate[i,[1,2]])\n",
    "    avg_dis = temp.sum()/len(splinter_group)\n",
    "    \n",
    "    return avg_dis"
   ]
  },
  {
   "cell_type": "code",
   "execution_count": null,
   "metadata": {},
   "outputs": [],
   "source": [
    "def splinter_group(coordinate, idx_arr, init):\n",
    "#     idx_arr = idx_arr.astype(np.int64)\n",
    "    arr = np.array(range(len(idx_arr)))\n",
    "    splinter_g = [init]\n",
    "    append = splinter_g.append\n",
    "    \n",
    "    while True:\n",
    "        dic = {}\n",
    "        for i in range(len(arr)):\n",
    "            if i in splinter_g:\n",
    "                pass\n",
    "            else:\n",
    "                j_idx = np.delete(arr, splinter_g + [i])\n",
    "\n",
    "                avg_ij = dist_ij(int(i), j_idx, coordinate)\n",
    "                avg_is = dist_is(int(i), splinter_g, coordinate)\n",
    "\n",
    "                dic[avg_ij - avg_is] = i\n",
    "        \n",
    "        D_h = max(dic.keys())\n",
    "        if D_h > 0:\n",
    "            append(dic[D_h])\n",
    "        else:\n",
    "            break\n",
    "    \n",
    "    return splinter_g"
   ]
  },
  {
   "cell_type": "code",
   "execution_count": null,
   "metadata": {},
   "outputs": [],
   "source": [
    "# one = splinter_group(coordinate_np, coordinate_np[:,0], init_obj_idx)"
   ]
  },
  {
   "cell_type": "code",
   "execution_count": null,
   "metadata": {},
   "outputs": [],
   "source": [
    "# one_idx = coordinate_np[one, 0].astype(np.int64)"
   ]
  },
  {
   "cell_type": "code",
   "execution_count": null,
   "metadata": {},
   "outputs": [],
   "source": [
    "# whole_idx = np.array(range(len(coordinate_np)))\n",
    "# remain = list(set(whole_idx) - set(one))"
   ]
  },
  {
   "cell_type": "code",
   "execution_count": null,
   "metadata": {},
   "outputs": [],
   "source": [
    "# remain_idx = coordinate_np[remain, 0].astype(np.int64)"
   ]
  },
  {
   "cell_type": "code",
   "execution_count": null,
   "metadata": {},
   "outputs": [],
   "source": [
    "def idx_to_coord(idx, coordinate):\n",
    "    idx = list(idx)\n",
    "    coord = coordinate[:,:][idx,:]\n",
    "    \n",
    "    return coord"
   ]
  },
  {
   "cell_type": "code",
   "execution_count": null,
   "metadata": {},
   "outputs": [],
   "source": [
    "def diameter(cluster, coordinate_np):\n",
    "    clu = idx_to_coord(cluster, coordinate_np)\n",
    "    \n",
    "    L = []\n",
    "    size = len(clu)\n",
    "    \n",
    "    for i in range(size):\n",
    "        L.append(distance(clu[:,[1,2]], clu[i,[1,2]]))\n",
    "        \n",
    "    matrix = np.array(L)\n",
    "    \n",
    "    diameter = matrix.sum()/(size*(size-1))\n",
    "    \n",
    "    return diameter"
   ]
  },
  {
   "cell_type": "code",
   "execution_count": null,
   "metadata": {},
   "outputs": [],
   "source": [
    "# dia_one = diameter(one, coordinate_np)"
   ]
  },
  {
   "cell_type": "code",
   "execution_count": null,
   "metadata": {},
   "outputs": [],
   "source": [
    "# dia_remain = diameter(remain, coordinate_np)"
   ]
  },
  {
   "cell_type": "code",
   "execution_count": null,
   "metadata": {},
   "outputs": [],
   "source": [
    "def save(dic, num):\n",
    "    for i in range(len(dic)):\n",
    "        (list(dic.values())[i]).sort()\n",
    "        with open('input'+str(num)+'_cluster_'+str(i)+'.txt', 'w') as f:\n",
    "            for line in list(dic.values())[i]:\n",
    "                f.write(str(line)+\"\\n\")\n",
    "            f.close()"
   ]
  },
  {
   "cell_type": "code",
   "execution_count": null,
   "metadata": {},
   "outputs": [],
   "source": [
    "# Receive program argument values\n",
    "import sys\n",
    "import numpy as np\n",
    "\n",
    "input_txt = sys.argv[1]\n",
    "cluster_num = int(sys.argv[2])\n",
    "\n",
    "num = int(''.join(ele for ele in input_txt if ele.isdigit()))\n",
    "\n",
    "data = open(input_txt, 'r')\n",
    "line = data.readlines()\n",
    "\n",
    "coord = [list(map(float,line[i].replace('\\t',\" \").split())) for i in range(len(line))]\n",
    "coordinate_np = np.array(coord)\n",
    "\n",
    "dic = {}\n",
    "n = cluster_num\n",
    "co = coordinate_np\n",
    "\n",
    "start = time.time()\n",
    "while True:\n",
    "    mat = dist_matrix(co)\n",
    "    ave = avg(mat)\n",
    "    init_obj_idx = np.argmax(ave)\n",
    "    one = splinter_group(co, co[:,0], init_obj_idx)\n",
    "    whole_idx = np.array(range(len(co)))\n",
    "    remain = list(set(whole_idx) - set(one))\n",
    "    one_idx = co[one, 0].astype(np.int64)\n",
    "    remain_idx = co[remain, 0].astype(np.int64)\n",
    "    dia_one = diameter(one, co)\n",
    "    dia_remain = diameter(remain, co)\n",
    "    dic[dia_one] = list(set(one_idx))\n",
    "    dic[dia_remain] = list(set(remain_idx))\n",
    "    \n",
    "    if len(dic) == n:\n",
    "        break\n",
    "    divide = dic[max(dic.keys())]\n",
    "    co = coordinate_np[divide,:]\n",
    "    del dic[max(dic.keys())]\n",
    "#     print('iteration')\n",
    "\n",
    "save(dic, num)\n",
    "print(time.time()-start)"
   ]
  },
  {
   "cell_type": "code",
   "execution_count": null,
   "metadata": {},
   "outputs": [],
   "source": [
    "# temp = 0\n",
    "# for i in range(len(dic)):\n",
    "#     temp += len(list(dic.values())[i])\n",
    "# print(temp)"
   ]
  },
  {
   "cell_type": "code",
   "execution_count": null,
   "metadata": {
    "scrolled": false
   },
   "outputs": [],
   "source": [
    "# plt.figure(figsize=(15, 10))\n",
    "# plt.scatter(coordinate_np[list(dic.values())[0],1],coordinate_np[list(dic.values())[0],2],s = 7)\n",
    "# plt.scatter(coordinate_np[list(dic.values())[1],1],coordinate_np[list(dic.values())[1],2],s = 7)\n",
    "# plt.scatter(coordinate_np[list(dic.values())[2],1],coordinate_np[list(dic.values())[2],2],s = 7)\n",
    "# plt.scatter(coordinate_np[list(dic.values())[3],1],coordinate_np[list(dic.values())[3],2],s = 7)\n",
    "# plt.scatter(coordinate_np[list(dic.values())[4],1],coordinate_np[list(dic.values())[4],2],s = 7)\n",
    "# plt.scatter(coordinate_np[list(dic.values())[5],1],coordinate_np[list(dic.values())[5],2],s = 7)\n",
    "# plt.scatter(coordinate_np[list(dic.values())[6],1],coordinate_np[list(dic.values())[6],2],s = 7)\n",
    "# plt.scatter(coordinate_np[list(dic.values())[7],1],coordinate_np[list(dic.values())[7],2],s = 7)\n",
    "# plt.show"
   ]
  },
  {
   "cell_type": "code",
   "execution_count": null,
   "metadata": {},
   "outputs": [],
   "source": [
    "# from tqdm import tqdm_notebook, tnrange, tqdm"
   ]
  }
 ],
 "metadata": {
  "kernelspec": {
   "display_name": "Python 3",
   "language": "python",
   "name": "python3"
  },
  "language_info": {
   "codemirror_mode": {
    "name": "ipython",
    "version": 3
   },
   "file_extension": ".py",
   "mimetype": "text/x-python",
   "name": "python",
   "nbconvert_exporter": "python",
   "pygments_lexer": "ipython3",
   "version": "3.8.3"
  }
 },
 "nbformat": 4,
 "nbformat_minor": 4
}
